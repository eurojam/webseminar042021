{
 "cells": [
  {
   "cell_type": "markdown",
   "metadata": {},
   "source": [
    "## Geoprozessing mit GeoPandas"
   ]
  },
  {
   "cell_type": "markdown",
   "metadata": {},
   "source": [
    "**Overlay Funktionen**\n",
    "Mit den räumlichen Overlay-Funktionen kann man zwei GeoDataFrames (Polygon oder Multipolygon Geometrien) vergleichen und auf Grundlage von räumlichen Bedingungen oder Kombinationen ein neues GeoDataFrame zu erzeugen:\n",
    "![Overlay!](img/overlay_operations.png \"Overlay\")\n",
    "\n",
    "Wichtig: Die Operationen finden nicht auf der Ebene der einzelnen Geometrien statt, sondern Dataframe Ebene, d.h. beide Dataframes behalten ihre Eigenschaften."
   ]
  },
  {
   "cell_type": "markdown",
   "metadata": {},
   "source": [
    "Laden wir nun buildings_a2 und landuse_a2 und führen einen intersect aus:"
   ]
  },
  {
   "cell_type": "code",
   "execution_count": null,
   "metadata": {
    "scrolled": true
   },
   "outputs": [],
   "source": [
    "import geopandas as gpd\n",
    "buildings = gpd.read_file(\"data/buildings_a2.shp\")\n",
    "landuse = gpd.read_file(\"data/landuse_a2.shp\")\n",
    "landuse.head()"
   ]
  },
  {
   "cell_type": "markdown",
   "metadata": {},
   "source": [
    "Für die `intersection` benötigen wir nun die overlay Funktionen, die mit 3 Argumenten aufgerufen werden:  \n",
    "- dataframe1\n",
    "- dataframe2\n",
    "- how\n",
    "\n",
    "How kann dabei einer der folgenden Werte annehmen:  \n",
    "\n",
    "`['intersection',\n",
    "'union',\n",
    "'identity',\n",
    "'symmetric_difference',\n",
    "'difference']`\n"
   ]
  },
  {
   "cell_type": "code",
   "execution_count": null,
   "metadata": {
    "scrolled": false
   },
   "outputs": [],
   "source": [
    "from geopandas.tools import overlay\n",
    "newdf = overlay(buildings, landuse, how=\"intersection\")\n",
    "newdf.plot(cmap='tab20b')"
   ]
  },
  {
   "cell_type": "code",
   "execution_count": null,
   "metadata": {},
   "outputs": [],
   "source": [
    "newdf.head()\n"
   ]
  },
  {
   "cell_type": "code",
   "execution_count": null,
   "metadata": {},
   "outputs": [],
   "source": [
    "872357,873959,6108613,6110035"
   ]
  },
  {
   "cell_type": "markdown",
   "metadata": {},
   "source": [
    "### Clipping\n",
    "Das folgende Beispiel zeigt, wie man mit GeoPandas zwei Datensätze basierend auf einem anderen datensatz clippen kann. Beide Datensätze müssen als Geodataframe im selben Bezugssystem vorliegen:"
   ]
  },
  {
   "cell_type": "code",
   "execution_count": null,
   "metadata": {},
   "outputs": [],
   "source": [
    "#benötigte Biliotheken importieren\n",
    "import matplotlib.pyplot as plt\n",
    "import geopandas as gpd\n",
    "from shapely.geometry import Polygon\n",
    "# Shapefile lesen mit gpd.read_file()\n",
    "world = gpd.read_file(\"data/countries.shp\")\n",
    "cities = gpd.read_file(\"data/cities.shp\")\n",
    "\n",
    "#Ein Polygon erstellen aus Koordinaten\n",
    "polygon = Polygon([(0, 0), (0, 90), (180, 90), (180, 0), (0, 0)])\n",
    "poly_gdf = gpd.GeoDataFrame([1], geometry=[polygon], crs=world.crs)"
   ]
  },
  {
   "cell_type": "markdown",
   "metadata": {},
   "source": [
    "alles zusammen mit Matplotlib ansehen:"
   ]
  },
  {
   "cell_type": "code",
   "execution_count": null,
   "metadata": {},
   "outputs": [],
   "source": [
    "fig, ax1 = plt.subplots(figsize=(12, 8))\n",
    "world.plot(ax=ax1)\n",
    "poly_gdf.boundary.plot(ax=ax1, color=\"red\")\n",
    "cities.plot(ax=ax1, color=\"purple\")\n",
    "ax1.set_title(\"World nicht geclippt\", fontsize=12)\n",
    "ax1.set_axis_off()\n",
    "plt.show()\n",
    "\n"
   ]
  },
  {
   "cell_type": "markdown",
   "metadata": {},
   "source": [
    "### Clipping:"
   ]
  },
  {
   "cell_type": "code",
   "execution_count": null,
   "metadata": {
    "scrolled": true
   },
   "outputs": [],
   "source": [
    "world_clipped = gpd.clip(world, polygon)\n",
    "\n",
    "# Plot the clipped data\n",
    "# The plot below shows the results of the clip function applied to the world\n",
    "# sphinx_gallery_thumbnail_number = 2\n",
    "fig, ax = plt.subplots(figsize=(12, 8))\n",
    "world_clipped.plot(ax=ax, color=\"purple\")\n",
    "world.boundary.plot(ax=ax)\n",
    "poly_gdf.boundary.plot(ax=ax, color=\"red\")\n",
    "ax.set_title(\"World geclipped\", fontsize=12)\n",
    "ax.set_axis_off()\n",
    "plt.show()"
   ]
  },
  {
   "cell_type": "markdown",
   "metadata": {},
   "source": [
    "Oder Clipping mit einem unregelmäßigen Polygon:"
   ]
  },
  {
   "cell_type": "code",
   "execution_count": null,
   "metadata": {
    "scrolled": true
   },
   "outputs": [],
   "source": [
    "south_america = world.loc[(world['continent'] == \"South America\")]\n",
    "cities_clipped = gpd.clip(cities, south_america)\n",
    "#Plot\n",
    "fig, ax = plt.subplots(figsize=(12, 8))\n",
    "cities_clipped.plot(ax=ax, color=\"red\")\n",
    "south_america.boundary.plot(ax=ax, color=\"green\")\n",
    "ax.set_title(\"Cities Clipped\", fontsize=12)\n",
    "ax.set_axis_off()\n",
    "plt.show()"
   ]
  },
  {
   "cell_type": "markdown",
   "metadata": {},
   "source": [
    "### Mehrere Prozessingschritte kombinieren: Einen optimalen Standort finden  \n",
    "Anhand von OSM daten soll ein optimaler Wohnstandort in Freiburg ermittelt werden.  \n",
    "Folgende Bedingungen gelten:\n",
    "- Maximal 200 Meter von einem Kindergarten entfernt: Layer: pois_p, \"fclass\" = 'kindergarten'\n",
    "- Maximal 500 Meter von einer Schule entfernt: Layer: pois_p, \"fclass\" = 'school'\n",
    "- Mindestens 250 Meter von einer Straße mit erlaubter Geschwindigkeit >30km/h: Layer roads_l, maxspeed > 30\n"
   ]
  },
  {
   "cell_type": "code",
   "execution_count": null,
   "metadata": {},
   "outputs": [],
   "source": [
    "from geopandas.tools import overlay\n",
    "#Daten laden\n",
    "pois = gpd.read_file(\"data/pois_p.shp\")\n",
    "roads = gpd.read_file(\"data/roads_l.shp\")\n",
    "\n",
    "#Filtern & Puffern\n",
    "#Ergebnisse sind vom Typ \"MULTIPOLYGON\"\n",
    "pois_k = pois.loc[(pois['fclass'] == 'kindergarten')].buffer(200).unary_union\n",
    "pois_s = pois.loc[(pois['fclass'] == 'school')].buffer(500).unary_union\n",
    "roads30 = roads.loc[(roads['maxspeed'] > 30)].buffer(250).unary_union\n",
    "print(\"TYP\", type(roads30))\n",
    "\n",
    "#Deswegen kommen hier Methoden aus shapely zum Einsatz\n",
    "intersection = pois_k.intersection(pois_s)\n",
    "difference = intersection.difference(roads30)\n",
    "\n",
    "#Das Ergebnis wieder in ein GeoPandas Dataframe überführen\n",
    "result = gpd.GeoDataFrame({'geometry':difference})\n",
    "print(result.head())\n",
    "\n",
    "#Karte erstellen\n",
    "fig, ax = plt.subplots(figsize=(12, 8))\n",
    "result.plot(ax=ax, color=\"green\")\n",
    "#pois.plot(ax=ax, color=\"purple\")\n",
    "roads.plot(ax=ax, color=\"grey\")\n",
    "ax.set_title(\"Result\", fontsize=12)\n",
    "ax.set_axis_off()\n",
    "plt.show()\n"
   ]
  },
  {
   "cell_type": "code",
   "execution_count": null,
   "metadata": {},
   "outputs": [],
   "source": []
  }
 ],
 "metadata": {
  "kernelspec": {
   "display_name": "Python 3",
   "language": "python",
   "name": "python3"
  },
  "language_info": {
   "codemirror_mode": {
    "name": "ipython",
    "version": 3
   },
   "file_extension": ".py",
   "mimetype": "text/x-python",
   "name": "python",
   "nbconvert_exporter": "python",
   "pygments_lexer": "ipython3",
   "version": "3.8.5"
  }
 },
 "nbformat": 4,
 "nbformat_minor": 2
}
