{
 "cells": [
  {
   "cell_type": "markdown",
   "id": "forced-separate",
   "metadata": {},
   "source": [
    "## Spatial Joins\n",
    "Eine räumliche Verknüpfung verwendet binäre Prädikate wie z.B. Intersection, um zwei GeoDataFrames basierend auf der räumlichen Beziehung zwischen ihren Geometrien zu kombinieren.\n",
    "\n",
    "![](img/spatial_join.png \"GeoPandas\")\n",
    "\n",
    "Ein häufiger Anwendungsfall kann eine räumliche Verknüpfung zwischen einer Punktebene und einer Polygonebene sein, bei der die Polygongeometrien beibehalten und die Attribute der sich schneidenden Punkte erfasst werden."
   ]
  },
  {
   "cell_type": "code",
   "execution_count": null,
   "id": "french-anthony",
   "metadata": {
    "scrolled": true
   },
   "outputs": [],
   "source": [
    "import geopandas as gpd\n",
    "  \n",
    "pois = gpd.read_file(\"data/pois_p2.shp\")\n",
    "buildings = gpd.read_file(\"data/buildings_a2.shp\")\n",
    "pois.head()"
   ]
  },
  {
   "cell_type": "code",
   "execution_count": null,
   "id": "hundred-groove",
   "metadata": {},
   "outputs": [],
   "source": [
    "#Left Join\n",
    "from geopandas.tools import sjoin\n",
    "df = sjoin(buildings, pois, how=\"left\")\n",
    "\n",
    "df1 = df[df['fid_right'].notnull()]\n",
    "df1.head()"
   ]
  },
  {
   "cell_type": "code",
   "execution_count": null,
   "id": "drawn-member",
   "metadata": {},
   "outputs": [],
   "source": []
  }
 ],
 "metadata": {
  "kernelspec": {
   "display_name": "Python 3",
   "language": "python",
   "name": "python3"
  },
  "language_info": {
   "codemirror_mode": {
    "name": "ipython",
    "version": 3
   },
   "file_extension": ".py",
   "mimetype": "text/x-python",
   "name": "python",
   "nbconvert_exporter": "python",
   "pygments_lexer": "ipython3",
   "version": "3.8.5"
  }
 },
 "nbformat": 4,
 "nbformat_minor": 5
}
