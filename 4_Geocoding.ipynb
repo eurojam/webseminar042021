{
 "cells": [
  {
   "cell_type": "markdown",
   "id": "forced-separate",
   "metadata": {},
   "source": [
    "## Geocoding\n",
    "GeoPandas unterstützt geocoding - Ortsnamen in Koordinaten umwandeln - über [geopy](https://geopy.readthedocs.io/en/stable/). Das folgende Beispiel geocodiert die Standorte der Wheregroupniederlassungen und stellt sie anschließend über [Folium](https://python-visualization.github.io/folium/) in einer interaktiven Leaflet-Karte dar."
   ]
  },
  {
   "cell_type": "code",
   "execution_count": null,
   "id": "french-anthony",
   "metadata": {
    "scrolled": true
   },
   "outputs": [],
   "source": [
    "# Import pandas & geopandas\n",
    "import pandas as pd \n",
    "import geopandas as gpd\n",
    "  \n",
    "# Standorte der WhereGroup als Liste\n",
    "wheregroup = [['WhereGroup Bonn', 'Eifelstraße 7, 53119 Bonn'],\n",
    "             ['WhereGroup Berlin', 'Bundesallee 23, 10717 Berlin'], \n",
    "             ['WhereGroup Freiburg', 'Schwimmbadstraße 2, 79100 Freiburg']] \n",
    "  \n",
    "#in ein Pandas Dataframe überführen und die Spaltenanmen vergeben\n",
    "wheregroup = pd.DataFrame(wheregroup, columns = ['Name', 'Adresse']) \n",
    "\n",
    "#Geocoding mit Nominatim\n",
    "locations = gpd.tools.geocode(wheregroup.Adresse, provider='nominatim', user_agent=\"stefan\")\n",
    "locations.head()"
   ]
  },
  {
   "cell_type": "code",
   "execution_count": null,
   "id": "hundred-groove",
   "metadata": {},
   "outputs": [],
   "source": [
    "#jetzt schmeissen wir die zusätzliche Adress-Spalte von nominatim wieder raus\n",
    "locations = locations.drop(['address'], axis=1)\n",
    "#Wheregroup an Locationstabelle joinen\n",
    "wheregroup = locations.join(wheregroup)\n",
    "wheregroup.head()"
   ]
  },
  {
   "cell_type": "code",
   "execution_count": null,
   "id": "developing-secretariat",
   "metadata": {},
   "outputs": [],
   "source": [
    "import folium\n",
    "\n",
    "# Karte erstellen\n",
    "m = folium.Map(location=[50, 10], tiles='openstreetmap', zoom_start=6)\n",
    "\n",
    "# Punkte zur Karte hinzufügen\n",
    "# dazu gehen wir durch unser dataframe mit einer for-Schleife\n",
    "for idx, row in wheregroup.iterrows():\n",
    "    folium.Marker([row.geometry.centroid.y, row.geometry.centroid.x], popup=row['Name']).add_to(m)\n",
    "\n",
    "# Karte anzeigen\n",
    "m\n",
    "\n"
   ]
  },
  {
   "cell_type": "code",
   "execution_count": null,
   "id": "drawn-member",
   "metadata": {},
   "outputs": [],
   "source": []
  }
 ],
 "metadata": {
  "kernelspec": {
   "display_name": "Python 3",
   "language": "python",
   "name": "python3"
  },
  "language_info": {
   "codemirror_mode": {
    "name": "ipython",
    "version": 3
   },
   "file_extension": ".py",
   "mimetype": "text/x-python",
   "name": "python",
   "nbconvert_exporter": "python",
   "pygments_lexer": "ipython3",
   "version": "3.8.8"
  }
 },
 "nbformat": 4,
 "nbformat_minor": 5
}
