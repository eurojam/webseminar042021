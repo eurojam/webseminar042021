{
 "cells": [
  {
   "cell_type": "markdown",
   "metadata": {},
   "source": [
    "## Einführung in Geopandas"
   ]
  },
  {
   "cell_type": "markdown",
   "metadata": {},
   "source": [
    "![Geopdandas logo!](img/geopandas_logo.png \"GeoPandas\")"
   ]
  },
  {
   "cell_type": "markdown",
   "metadata": {},
   "source": [
    "**[GeoPandas](https://geopandas.org/)** ist eine Python Bibliothek zur Berabeitung von Geodaten. GeoPandas basiert auf [Pandas](https://pandas.pydata.org/), eine sehr mächtigen Python Bibliothek zur Analyse und Manipulation von tabellarischen Daten. "
   ]
  },
  {
   "cell_type": "markdown",
   "metadata": {},
   "source": [
    "![Dataframe!](img/pandas-data-structure.png \"Dataframe\")"
   ]
  },
  {
   "cell_type": "markdown",
   "metadata": {},
   "source": [
    "### Ein paar Basics"
   ]
  },
  {
   "cell_type": "code",
   "execution_count": null,
   "metadata": {},
   "outputs": [],
   "source": [
    "# Laden von GeoPandas in Python\n",
    "import geopandas as gpd"
   ]
  },
  {
   "cell_type": "code",
   "execution_count": null,
   "metadata": {},
   "outputs": [],
   "source": [
    "# ein Shapefile laden\n",
    "# Datenpfad definieren\n",
    "fp = \"data/countries.shp\"\n",
    "# Shapefile lesen mit gpd.read_file()\n",
    "world = gpd.read_file(fp)"
   ]
  },
  {
   "cell_type": "markdown",
   "metadata": {},
   "source": [
    "Mit der `head()` Funktion lassen sich dataframes in Pandas oder Geopandas ansehen"
   ]
  },
  {
   "cell_type": "code",
   "execution_count": null,
   "metadata": {
    "scrolled": true
   },
   "outputs": [],
   "source": [
    "world.head()"
   ]
  },
  {
   "cell_type": "markdown",
   "metadata": {},
   "source": [
    "Mit der `shape()` Funktion lassen sich dataframes in Pandas oder Geopandas die Größe (Zeilen x Spalten) abfragen:"
   ]
  },
  {
   "cell_type": "code",
   "execution_count": null,
   "metadata": {},
   "outputs": [],
   "source": [
    "world.shape"
   ]
  },
  {
   "cell_type": "markdown",
   "metadata": {},
   "source": [
    "...und mit `describe()` lassen sich dataframes in Pandas oder Geopandas eine Basisstatistik abfragen:"
   ]
  },
  {
   "cell_type": "code",
   "execution_count": null,
   "metadata": {},
   "outputs": [],
   "source": [
    "world.describe()"
   ]
  },
  {
   "cell_type": "markdown",
   "metadata": {},
   "source": [
    "und mit der `plot()` Funktion lassen sich dataframes in Pandas (Diagramm) oder Geopandas (Karte) wiedergeben"
   ]
  },
  {
   "cell_type": "code",
   "execution_count": null,
   "metadata": {},
   "outputs": [],
   "source": [
    "#Basisausgabe, ohne Parameter\n",
    "world.plot()"
   ]
  },
  {
   "cell_type": "markdown",
   "metadata": {},
   "source": [
    "### Daten filtern"
   ]
  },
  {
   "cell_type": "markdown",
   "metadata": {},
   "source": [
    "geht auf verschiedene Methoden, z.B. mit `loc` (location)"
   ]
  },
  {
   "cell_type": "code",
   "execution_count": null,
   "metadata": {},
   "outputs": [],
   "source": [
    "# alle Länder in Afrika und Südamerika filtern\n",
    "south = world.loc[(world['continent'] == \"Africa\") | (world['continent'] == \"South America\")]\n",
    "south.plot()"
   ]
  },
  {
   "cell_type": "markdown",
   "metadata": {},
   "source": [
    "### Daten exportieren"
   ]
  },
  {
   "cell_type": "markdown",
   "metadata": {},
   "source": [
    "Die Ausgabe in ein Shapefile ist ebenfalls sehr einfach:"
   ]
  },
  {
   "cell_type": "code",
   "execution_count": null,
   "metadata": {},
   "outputs": [],
   "source": [
    "# Ausgabepfad und Name festlegen\n",
    "out = r\"data/south.shp\"\n",
    "\n",
    "# Daten in die Ausgabe schreiben\n",
    "south.to_file(out)\n",
    "\n",
    "#Über driver können auch weitere Formate verwendet werden\n",
    "#Geopackage, GeoJSON, POSTGIS...\n",
    "#south.to_file(\"south.geojson\", driver='GeoJSON')"
   ]
  },
  {
   "cell_type": "markdown",
   "metadata": {},
   "source": [
    "### Eine neue Spalte berechnen und eine Choroplethenkarte erstellen"
   ]
  },
  {
   "cell_type": "markdown",
   "metadata": {},
   "source": [
    "Mit GeoPandas ist sehr einfach eine Choroplethenkarte (Karten bei denen die Farbe einer Geometrie einem Wert einer zugeordneten Variable entspricht). Dazu verwendet man einfach das `plot()` Funktion und übergibt die Spalte, die dargestellt werden soll als Argument:"
   ]
  },
  {
   "cell_type": "code",
   "execution_count": null,
   "metadata": {},
   "outputs": [],
   "source": [
    "#Einen Filter setzen\n",
    "world = world[(world.pop_est>0) & (world.name!=\"Antarctica\")]\n",
    "#Eine neue Spalte berechnen Bruttosozialprodukt per Kopf\n",
    "world['gdp_per_cap'] = world.gdp_md_est / world.pop_est \n",
    "print(world.head())\n",
    "world.plot(column='gdp_per_cap', cmap='RdBu')"
   ]
  },
  {
   "cell_type": "code",
   "execution_count": null,
   "metadata": {},
   "outputs": [],
   "source": [
    "# Und alles mit Legende\n",
    "import matplotlib.pyplot as plt\n",
    "fig, ax = plt.subplots(1, 1)\n",
    "world.plot(column='gdp_per_cap',\n",
    "           cmap='RdBu',\n",
    "           ax=ax,\n",
    "           legend=True,\n",
    "           legend_kwds={'label': \"GDP per capita mio. US$\",\n",
    "                        'orientation': \"horizontal\"})"
   ]
  }
 ],
 "metadata": {
  "kernelspec": {
   "display_name": "Python 3",
   "language": "python",
   "name": "python3"
  },
  "language_info": {
   "codemirror_mode": {
    "name": "ipython",
    "version": 3
   },
   "file_extension": ".py",
   "mimetype": "text/x-python",
   "name": "python",
   "nbconvert_exporter": "python",
   "pygments_lexer": "ipython3",
   "version": "3.8.5"
  }
 },
 "nbformat": 4,
 "nbformat_minor": 2
}
