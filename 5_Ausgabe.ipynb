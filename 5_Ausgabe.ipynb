{
 "cells": [
  {
   "cell_type": "markdown",
   "metadata": {},
   "source": [
    "## Ausgabe\n",
    "In GeoPandas verfügt man - je nach zusätzlich verwendeten Bibliotheken - über verschiedene Ausgabemöglichkeiten:  \n",
    "- intern `plot()`\n",
    "- [Matplotlib](https://matplotlib.org/): Universelle Pythonbibliothek zur Ausgabe von Diagrammen und Karten\n",
    "- [Geoplot](https://residentmario.github.io/geoplot/index.html): hoch aggregierte Plotting Biliothek für räumliche Daten. Basiert auf [CartoPy](https://pypi.org/project/Cartopy/) and matplotlib\n",
    "- [Folium](https://python-visualization.github.io/folium/): Ausgabebibliothek basierend auf leaflet.js"
   ]
  },
  {
   "cell_type": "code",
   "execution_count": null,
   "metadata": {},
   "outputs": [],
   "source": [
    "import geopandas\n",
    "#interner Datensatz GeoPandas: Bezirke New Yorks\n",
    "df = geopandas.read_file(geopandas.datasets.get_path('nybb'))\n",
    "ax = df.plot(figsize=(5, 5), alpha=0.5, edgecolor='k')"
   ]
  },
  {
   "cell_type": "markdown",
   "metadata": {},
   "source": [
    "Mit [contextily](https://github.com/geopandas/contextily) können Tilemaps aus dem Internet geladen werden, z.B. OSM Tiles. Dazu müssen wir das Geodataframe erst umprojizieren in Web-Mercator (EPSG 3857)."
   ]
  },
  {
   "cell_type": "code",
   "execution_count": null,
   "metadata": {},
   "outputs": [],
   "source": [
    "df = df.to_crs(epsg=3857)"
   ]
  },
  {
   "cell_type": "code",
   "execution_count": null,
   "metadata": {},
   "outputs": [],
   "source": [
    "import contextily as ctx"
   ]
  },
  {
   "cell_type": "code",
   "execution_count": null,
   "metadata": {},
   "outputs": [],
   "source": [
    "ax = df.plot(figsize=(10, 10), alpha=0.5, edgecolor='k')\n",
    "ctx.add_basemap(ax)"
   ]
  },
  {
   "cell_type": "markdown",
   "metadata": {},
   "source": [
    "### GeoPlot"
   ]
  },
  {
   "cell_type": "code",
   "execution_count": null,
   "metadata": {},
   "outputs": [],
   "source": [
    "import geopandas\n",
    "import geoplot\n",
    "\n",
    "world = geopandas.read_file(\n",
    "    geopandas.datasets.get_path('naturalearth_lowres')\n",
    ")\n",
    "boroughs = geopandas.read_file(\n",
    "    geoplot.datasets.get_path('nyc_boroughs')\n",
    ")\n",
    "collisions = geopandas.read_file(\n",
    "    geoplot.datasets.get_path('nyc_injurious_collisions')\n",
    ")"
   ]
  },
  {
   "cell_type": "markdown",
   "metadata": {},
   "source": [
    "Basisausgabe mit Geoplot:"
   ]
  },
  {
   "cell_type": "code",
   "execution_count": null,
   "metadata": {},
   "outputs": [],
   "source": [
    "geoplot.polyplot(world, figsize=(8, 4))"
   ]
  },
  {
   "cell_type": "markdown",
   "metadata": {},
   "source": [
    "Geoplot kann Geodaten in jedes Koordinatensystem, das von CartoPy unterstützt wird umprojizieren, eine Auflistung findet sich [hier](https://scitools.org.uk/cartopy/docs/latest/crs/projections.html):"
   ]
  },
  {
   "cell_type": "code",
   "execution_count": null,
   "metadata": {
    "scrolled": true
   },
   "outputs": [],
   "source": [
    "# use the Orthographic map projection (e.g. a world globe)\n",
    "ax = geoplot.polyplot(\n",
    "    world, projection=geoplot.crs.Orthographic(), figsize=(8, 4)\n",
    ")\n",
    "ax.spines['geo'].set_visible(True)"
   ]
  },
  {
   "cell_type": "markdown",
   "metadata": {},
   "source": [
    "`geoplot.polyplot` kann nur die übergebenen Geometrien darstellen. Sollen Farbwerte z.B. als Choropleth dargestellt werden, kann man das mit der [Mapclassify](https://pysal.org/mapclassify/) Bibliothek und `geoplot.choropleth` machen:"
   ]
  },
  {
   "cell_type": "code",
   "execution_count": null,
   "metadata": {
    "scrolled": true
   },
   "outputs": [],
   "source": [
    "import mapclassify\n",
    "gpd_per_person = world['gdp_md_est'] / world['pop_est']\n",
    "scheme = mapclassify.Quantiles(gpd_per_person, k=5)\n",
    "\n",
    "# Note: this code sample requires geoplot>=0.4.0.\n",
    "geoplot.choropleth(\n",
    "    world, hue=gpd_per_person, scheme=scheme,\n",
    "    cmap='Greens', figsize=(8, 4)\n",
    ")"
   ]
  },
  {
   "cell_type": "markdown",
   "metadata": {},
   "source": [
    "### Folium\n",
    "Folium baut auf einem Python-Wrapper für leaflet.js auf. Es macht es einfach, Daten in Python mit minimalen Anweisungen zu visualisieren.  "
   ]
  },
  {
   "cell_type": "code",
   "execution_count": null,
   "metadata": {
    "scrolled": true
   },
   "outputs": [],
   "source": [
    "# Bibliotheken importieren\n",
    "import pandas as pd\n",
    "import geopandas\n",
    "import folium\n",
    "import matplotlib.pyplot as plt\n",
    "from shapely.geometry import Point\n",
    "\n",
    "#Daten aus CSV in ein Pandas Dataframe laden:\n",
    "df1 = pd.read_csv('./data/volcano_data_2010.csv')\n",
    "df = df1.loc[:, (\"Year\", \"Name\", \"Country\", \"Latitude\", \"Longitude\", \"Type\")]\n",
    "df.info()"
   ]
  },
  {
   "cell_type": "code",
   "execution_count": null,
   "metadata": {},
   "outputs": [],
   "source": [
    "#Nun erstellen wir eine Geometrie und konvertieren das \n",
    "geometry = geopandas.points_from_xy(df.Longitude, df.Latitude)\n",
    "geo_df = geopandas.GeoDataFrame(df[['Year','Name','Country', 'Latitude', 'Longitude', 'Type']], geometry=geometry)\n",
    "\n",
    "geo_df.head()"
   ]
  },
  {
   "cell_type": "code",
   "execution_count": null,
   "metadata": {},
   "outputs": [],
   "source": [
    "#Hintergrundlayer und Unique Values finden\n",
    "world = geopandas.read_file(geopandas.datasets.get_path('naturalearth_lowres'))\n",
    "df.Type.unique()"
   ]
  },
  {
   "cell_type": "markdown",
   "metadata": {},
   "source": [
    "Mit Matplotlib sieht das ganze dann so aus:"
   ]
  },
  {
   "cell_type": "code",
   "execution_count": null,
   "metadata": {},
   "outputs": [],
   "source": [
    "fig, ax = plt.subplots(figsize=(24,18))\n",
    "world.plot(ax=ax, alpha=0.4, color='grey')\n",
    "geo_df.plot(column='Type', ax=ax, legend=True)\n",
    "plt.title('Volcanoes')"
   ]
  },
  {
   "cell_type": "markdown",
   "metadata": {},
   "source": [
    "Eine Karte mit Folium erstellen: es stehen verschiedene Hintergrundkarten zur Verfügung, z.B. `Stamen Terrain`"
   ]
  },
  {
   "cell_type": "code",
   "execution_count": null,
   "metadata": {},
   "outputs": [],
   "source": [
    "map = folium.Map(location = [48,7.8], tiles = \"Stamen Terrain\", zoom_start = 9)\n",
    "map"
   ]
  },
  {
   "cell_type": "code",
   "execution_count": null,
   "metadata": {},
   "outputs": [],
   "source": [
    "# OpenStreetMap\n",
    "map = folium.Map(location = [52.518611, 13.408333], tiles='OpenStreetMap' , zoom_start = 13)\n",
    "map"
   ]
  },
  {
   "cell_type": "markdown",
   "metadata": {},
   "source": [
    "Nun wollen wir die Karte der Vulkane mit unterschiedlichen Markern darstellen:"
   ]
  },
  {
   "cell_type": "code",
   "execution_count": null,
   "metadata": {},
   "outputs": [],
   "source": [
    "#Für die Vulkankarte verwenden wir die Hintergrundkarte \"Stamen Terrain\"\n",
    "map = folium.Map(location = [4,10], tiles = \"Stamen Terrain\", zoom_start = 3)"
   ]
  },
  {
   "cell_type": "code",
   "execution_count": null,
   "metadata": {},
   "outputs": [],
   "source": [
    "# Um mehrere Marker einzufügen interieren wir über die Geometry des Geodataframes und erzeugen eine Liste mit Punkten\n",
    "# add a different color marker associated with type of volcano\n",
    "\n",
    "geo_df_list = [[point.y, point.x] for point in geo_df.geometry ]\n",
    "\n",
    "i = 0\n",
    "for coordinates in geo_df_list:\n",
    "    #assign a color marker for the type of volcano, Strato being the most common\n",
    "    if geo_df.Type[i] == \"Stratovolcano\":\n",
    "        type_color = \"green\"\n",
    "    elif geo_df.Type[i] == \"Complex volcano\":\n",
    "        type_color = \"blue\"\n",
    "    elif geo_df.Type[i] == \"Shield volcano\":\n",
    "        type_color = \"orange\"\n",
    "    elif geo_df.Type[i] == \"Lava dome\":\n",
    "        type_color = \"pink\"\n",
    "    else:\n",
    "        type_color = \"purple\"\n",
    "\n",
    "\n",
    "    #now place the markers with the popup labels and data\n",
    "    map.add_child(folium.Marker(location = coordinates,\n",
    "                            popup =\n",
    "                            \"Year: \" + str(geo_df.Year[i]) + '<br>' +\n",
    "                            \"Name: \" + str(geo_df.Name[i]) + '<br>' +\n",
    "                            \"Country: \" + str(geo_df.Country[i]) + '<br>'\n",
    "                            \"Type: \" + str(geo_df.Type[i]) + '<br>'\n",
    "                            \"Coordinates: \" + str(geo_df_list[i]),\n",
    "                            icon = folium.Icon(color = \"{}\".format(type_color))))\n",
    "    i = i + 1"
   ]
  },
  {
   "cell_type": "code",
   "execution_count": null,
   "metadata": {},
   "outputs": [],
   "source": [
    "map"
   ]
  }
 ],
 "metadata": {
  "kernelspec": {
   "display_name": "Python 3",
   "language": "python",
   "name": "python3"
  },
  "language_info": {
   "codemirror_mode": {
    "name": "ipython",
    "version": 3
   },
   "file_extension": ".py",
   "mimetype": "text/x-python",
   "name": "python",
   "nbconvert_exporter": "python",
   "pygments_lexer": "ipython3",
   "version": "3.8.5"
  }
 },
 "nbformat": 4,
 "nbformat_minor": 4
}
