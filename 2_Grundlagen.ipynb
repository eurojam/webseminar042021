{
 "cells": [
  {
   "cell_type": "markdown",
   "metadata": {},
   "source": [
    "## Grundlagen GeoPandas"
   ]
  },
  {
   "cell_type": "markdown",
   "metadata": {},
   "source": [
    "**GeoPandas**\n",
    "- erbt Funktionen von Pandas, damit ist eine sehr mächtige Tabellenkalkulation möglich\n",
    "- kann sehr viele Datenformate Lesen und Schreiben, da es auf Fiona und somit auf GDAL aufbaut\n",
    "- verfügt die wichtigsten Overlay-Funktionen wie **intersection**, **union**, **difference** und andere\n",
    "- verfügt über die wichtigsten geometrischen Manipulationsmethoden wie **buffer**, **centroid**, **convex_hull** und weitere\n",
    "- kennt die wichtigsten affinen Transformationen wie **rotate**, **scale**, **transform**, **affine_transform (matrix)**\n",
    "- ist sehr schnell bei Berechnungen und Umwandlungen, da diese nicht zeilenbasiert sondern matrixbasiert durchgeführt werden, insbesondere Laden, Joinen und gruppieren von Daten."
   ]
  },
  {
   "cell_type": "markdown",
   "metadata": {},
   "source": [
    "### Datenformate"
   ]
  },
  {
   "cell_type": "code",
   "execution_count": 14,
   "metadata": {
    "scrolled": true
   },
   "outputs": [
    {
     "data": {
      "text/plain": [
       "{'AeronavFAA': 'r',\n",
       " 'ARCGEN': 'r',\n",
       " 'BNA': 'raw',\n",
       " 'DXF': 'raw',\n",
       " 'CSV': 'raw',\n",
       " 'OpenFileGDB': 'r',\n",
       " 'ESRIJSON': 'r',\n",
       " 'ESRI Shapefile': 'raw',\n",
       " 'GeoJSON': 'rw',\n",
       " 'GeoJSONSeq': 'rw',\n",
       " 'GPKG': 'rw',\n",
       " 'GML': 'raw',\n",
       " 'GPX': 'raw',\n",
       " 'GPSTrackMaker': 'raw',\n",
       " 'Idrisi': 'r',\n",
       " 'MapInfo File': 'raw',\n",
       " 'DGN': 'raw',\n",
       " 'PCIDSK': 'r',\n",
       " 'S57': 'r',\n",
       " 'SEGY': 'r',\n",
       " 'SUA': 'r',\n",
       " 'TopoJSON': 'r'}"
      ]
     },
     "execution_count": 14,
     "metadata": {},
     "output_type": "execute_result"
    }
   ],
   "source": [
    "# Unterstützte Datenformate:\n",
    "import fiona \n",
    "fiona.supported_drivers"
   ]
  },
  {
   "cell_type": "code",
   "execution_count": 13,
   "metadata": {
    "scrolled": true
   },
   "outputs": [
    {
     "data": {
      "text/plain": [
       "<AxesSubplot:>"
      ]
     },
     "execution_count": 13,
     "metadata": {},
     "output_type": "execute_result"
    },
    {
     "data": {
      "image/png": "[encoded data removed]",
      "text/plain": [
       "<Figure size 432x288 with 1 Axes>"
      ]
     },
     "metadata": {
      "needs_background": "light"
     },
     "output_type": "display_data"
    }
   ],
   "source": [
    "url = \"http://d2ad6b4ur7yvpq.cloudfront.net/naturalearth-3.3.0/ne_110m_land.geojson\"\n",
    "df = gpd.read_file(url)\n",
    "df.plot()"
   ]
  },
  {
   "cell_type": "markdown",
   "metadata": {},
   "source": [
    "### Geschwindikeit:\n",
    "Shapefile 'buildings_a.shp' mit 1 Mio. Zeilen laden (~320MB), eine neue Spalte anlegen und die Gebäudeflächen berechnen. Mit QGIS hat mein Rechner dafür 75 Sekunden mit dem Feldrechner benötigt, die Daten waren bereits in QGIS geladen."
   ]
  },
  {
   "cell_type": "code",
   "execution_count": 4,
   "metadata": {},
   "outputs": [
    {
     "name": "stdout",
     "output_type": "stream",
     "text": [
      "Reading data in 35.940476 seconds\n",
      "Area-calculation done in 1.626247 seconds\n"
     ]
    },
    {
     "data": {
      "text/html": [
       "<div>\n",
       "<style scoped>\n",
       "    .dataframe tbody tr th:only-of-type {\n",
       "        vertical-align: middle;\n",
       "    }\n",
       "\n",
       "    .dataframe tbody tr th {\n",
       "        vertical-align: top;\n",
       "    }\n",
       "\n",
       "    .dataframe thead th {\n",
       "        text-align: right;\n",
       "    }\n",
       "</style>\n",
       "<table border=\"1\" class=\"dataframe\">\n",
       "  <thead>\n",
       "    <tr style=\"text-align: right;\">\n",
       "      <th></th>\n",
       "      <th>osm_id</th>\n",
       "      <th>code</th>\n",
       "      <th>fclass</th>\n",
       "      <th>name</th>\n",
       "      <th>type</th>\n",
       "      <th>geometry</th>\n",
       "      <th>area</th>\n",
       "    </tr>\n",
       "  </thead>\n",
       "  <tbody>\n",
       "    <tr>\n",
       "      <th>0</th>\n",
       "      <td>4525597</td>\n",
       "      <td>1500</td>\n",
       "      <td>building</td>\n",
       "      <td>Sankt Thomas Kirche</td>\n",
       "      <td>church</td>\n",
       "      <td>POLYGON ((411081.619 5318048.755, 411093.531 5...</td>\n",
       "      <td>245.943373</td>\n",
       "    </tr>\n",
       "    <tr>\n",
       "      <th>1</th>\n",
       "      <td>8010158</td>\n",
       "      <td>1500</td>\n",
       "      <td>building</td>\n",
       "      <td>Kirche St. Martin</td>\n",
       "      <td>church</td>\n",
       "      <td>POLYGON ((430880.579 5276833.091, 430881.497 5...</td>\n",
       "      <td>1010.021333</td>\n",
       "    </tr>\n",
       "    <tr>\n",
       "      <th>2</th>\n",
       "      <td>8908823</td>\n",
       "      <td>1500</td>\n",
       "      <td>building</td>\n",
       "      <td>None</td>\n",
       "      <td>None</td>\n",
       "      <td>POLYGON ((466315.023 5273762.395, 466347.839 5...</td>\n",
       "      <td>4213.850064</td>\n",
       "    </tr>\n",
       "    <tr>\n",
       "      <th>3</th>\n",
       "      <td>8908875</td>\n",
       "      <td>1500</td>\n",
       "      <td>building</td>\n",
       "      <td>None</td>\n",
       "      <td>None</td>\n",
       "      <td>POLYGON ((466269.524 5273734.328, 466307.648 5...</td>\n",
       "      <td>2135.668509</td>\n",
       "    </tr>\n",
       "    <tr>\n",
       "      <th>4</th>\n",
       "      <td>8908942</td>\n",
       "      <td>1500</td>\n",
       "      <td>building</td>\n",
       "      <td>None</td>\n",
       "      <td>None</td>\n",
       "      <td>POLYGON ((466381.453 5273734.571, 466430.771 5...</td>\n",
       "      <td>8935.539313</td>\n",
       "    </tr>\n",
       "  </tbody>\n",
       "</table>\n",
       "</div>"
      ],
      "text/plain": [
       "    osm_id  code    fclass                 name    type  \\\n",
       "0  4525597  1500  building  Sankt Thomas Kirche  church   \n",
       "1  8010158  1500  building    Kirche St. Martin  church   \n",
       "2  8908823  1500  building                 None    None   \n",
       "3  8908875  1500  building                 None    None   \n",
       "4  8908942  1500  building                 None    None   \n",
       "\n",
       "                                            geometry         area  \n",
       "0  POLYGON ((411081.619 5318048.755, 411093.531 5...   245.943373  \n",
       "1  POLYGON ((430880.579 5276833.091, 430881.497 5...  1010.021333  \n",
       "2  POLYGON ((466315.023 5273762.395, 466347.839 5...  4213.850064  \n",
       "3  POLYGON ((466269.524 5273734.328, 466307.648 5...  2135.668509  \n",
       "4  POLYGON ((466381.453 5273734.571, 466430.771 5...  8935.539313  "
      ]
     },
     "execution_count": 4,
     "metadata": {},
     "output_type": "execute_result"
    }
   ],
   "source": [
    "import geopandas as gpd\n",
    "import datetime #Performance messen\n",
    "#Startzeitder Berechnung für Performancemessung\n",
    "t1 = datetime.datetime.now()\n",
    "#Daten einlesen\n",
    "fp = \"data/buildings_a.shp\"\n",
    "df = gpd.read_file(fp)\n",
    "\n",
    "#Zwischenzeit nehmen\n",
    "t2 = datetime.datetime.now()\n",
    "secs = (t2-t1).total_seconds()\n",
    "print(\"Reading data in {} seconds\".format(secs))\n",
    "t1 = datetime.datetime.now()\n",
    "\n",
    "#Neue Spalte 'area' mit Gebäudefläche bestimmen:\n",
    "df[\"area\"] = df['geometry'].area\n",
    "\n",
    "#Zeit berechnen für Flächenberechnung\n",
    "t2 = datetime.datetime.now()\n",
    "secs = (t2-t1).total_seconds()\n",
    "print(\"Area-calculation done in {} seconds\".format(secs))\n",
    "df.head()"
   ]
  },
  {
   "cell_type": "markdown",
   "metadata": {},
   "source": [
    "Mit der `describe()` Funktion können wir uns nun die Statistik zu den Daten sehr schnell ansehen:"
   ]
  },
  {
   "cell_type": "code",
   "execution_count": 6,
   "metadata": {
    "scrolled": true
   },
   "outputs": [
    {
     "data": {
      "text/html": [
       "<div>\n",
       "<style scoped>\n",
       "    .dataframe tbody tr th:only-of-type {\n",
       "        vertical-align: middle;\n",
       "    }\n",
       "\n",
       "    .dataframe tbody tr th {\n",
       "        vertical-align: top;\n",
       "    }\n",
       "\n",
       "    .dataframe thead th {\n",
       "        text-align: right;\n",
       "    }\n",
       "</style>\n",
       "<table border=\"1\" class=\"dataframe\">\n",
       "  <thead>\n",
       "    <tr style=\"text-align: right;\">\n",
       "      <th></th>\n",
       "      <th>code</th>\n",
       "      <th>area</th>\n",
       "    </tr>\n",
       "  </thead>\n",
       "  <tbody>\n",
       "    <tr>\n",
       "      <th>count</th>\n",
       "      <td>1016603.0</td>\n",
       "      <td>1.016603e+06</td>\n",
       "    </tr>\n",
       "    <tr>\n",
       "      <th>mean</th>\n",
       "      <td>1500.0</td>\n",
       "      <td>1.644109e+02</td>\n",
       "    </tr>\n",
       "    <tr>\n",
       "      <th>std</th>\n",
       "      <td>0.0</td>\n",
       "      <td>5.439604e+02</td>\n",
       "    </tr>\n",
       "    <tr>\n",
       "      <th>min</th>\n",
       "      <td>1500.0</td>\n",
       "      <td>5.501381e-02</td>\n",
       "    </tr>\n",
       "    <tr>\n",
       "      <th>25%</th>\n",
       "      <td>1500.0</td>\n",
       "      <td>4.589001e+01</td>\n",
       "    </tr>\n",
       "    <tr>\n",
       "      <th>50%</th>\n",
       "      <td>1500.0</td>\n",
       "      <td>9.993265e+01</td>\n",
       "    </tr>\n",
       "    <tr>\n",
       "      <th>75%</th>\n",
       "      <td>1500.0</td>\n",
       "      <td>1.669009e+02</td>\n",
       "    </tr>\n",
       "    <tr>\n",
       "      <th>max</th>\n",
       "      <td>1500.0</td>\n",
       "      <td>1.562510e+05</td>\n",
       "    </tr>\n",
       "  </tbody>\n",
       "</table>\n",
       "</div>"
      ],
      "text/plain": [
       "            code          area\n",
       "count  1016603.0  1.016603e+06\n",
       "mean      1500.0  1.644109e+02\n",
       "std          0.0  5.439604e+02\n",
       "min       1500.0  5.501381e-02\n",
       "25%       1500.0  4.589001e+01\n",
       "50%       1500.0  9.993265e+01\n",
       "75%       1500.0  1.669009e+02\n",
       "max       1500.0  1.562510e+05"
      ]
     },
     "execution_count": 6,
     "metadata": {},
     "output_type": "execute_result"
    }
   ],
   "source": [
    "df.describe()"
   ]
  },
  {
   "cell_type": "code",
   "execution_count": null,
   "metadata": {},
   "outputs": [],
   "source": []
  }
 ],
 "metadata": {
  "kernelspec": {
   "display_name": "Python 3",
   "language": "python",
   "name": "python3"
  },
  "language_info": {
   "codemirror_mode": {
    "name": "ipython",
    "version": 3
   },
   "file_extension": ".py",
   "mimetype": "text/x-python",
   "name": "python",
   "nbconvert_exporter": "python",
   "pygments_lexer": "ipython3",
   "version": "3.8.8"
  }
 },
 "nbformat": 4,
 "nbformat_minor": 2
}
