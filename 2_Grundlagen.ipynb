{
 "cells": [
  {
   "cell_type": "markdown",
   "metadata": {},
   "source": [
    "## Grundlagen GeoPandas"
   ]
  },
  {
   "cell_type": "markdown",
   "metadata": {},
   "source": [
    "**GeoPandas**\n",
    "- erbt Funktionen von Pandas, damit ist eine sehr mächtige Tabellenkalkulation möglich\n",
    "- kann sehr viele Datenformate Lesen und Schreiben, da es auf Fiona und somit auf GDAL aufbaut\n",
    "- verfügt die wichtigsten Overlay-Funktionen wie **intersection**, **union**, **difference** und andere\n",
    "- verfügt über die wichtigsten geometrischen Manipulationsmethoden wie **buffer**, **centroid**, **convex_hull** und weitere\n",
    "- kennt die wichtigsten affinen Transformationen wie **rotate**, **scale**, **transform**, **affine_transform (matrix)**\n",
    "- ist sehr schnell bei Berechnungen und Umwandlungen, da diese nicht zeilenbasiert sondern matrixbasiert durchgeführt werden, insbesondere Laden, Joinen und gruppieren von Daten."
   ]
  },
  {
   "cell_type": "markdown",
   "metadata": {},
   "source": [
    "### Datenformate"
   ]
  },
  {
   "cell_type": "code",
   "execution_count": null,
   "metadata": {
    "scrolled": true
   },
   "outputs": [],
   "source": [
    "# Unterstützte Datenformate:\n",
    "import fiona \n",
    "fiona.supported_drivers"
   ]
  },
  {
   "cell_type": "markdown",
   "metadata": {},
   "source": [
    "Es können auch webbasierte Datenformate wie *geojson* direkt über eine URL geladen werden:"
   ]
  },
  {
   "cell_type": "code",
   "execution_count": null,
   "metadata": {
    "scrolled": true
   },
   "outputs": [],
   "source": [
    "import geopandas as gpd\n",
    "url = \"http://d2ad6b4ur7yvpq.cloudfront.net/naturalearth-3.3.0/ne_110m_land.geojson\"\n",
    "df = gpd.read_file(url)\n",
    "df.plot()"
   ]
  },
  {
   "cell_type": "markdown",
   "metadata": {},
   "source": [
    "### Datenfilter\n",
    "Da GeoPandas auf Fiona aufbaut, was wiederum auf GDAL basiert, lassen sich Daten bereits beim Einlesen filtern:"
   ]
  },
  {
   "cell_type": "code",
   "execution_count": null,
   "metadata": {},
   "outputs": [],
   "source": [
    "# Geometrischer Filter:\n",
    "gdf_mask = gpd.read_file(\"data/countries.shp\")\n",
    "\n",
    "#Alle Städte in Afrika einlesen\n",
    "gdf = gpd.read_file(\"data/cities.shp\",\n",
    "    mask=gdf_mask[gdf_mask.continent==\"Africa\"],\n",
    ")\n",
    "gdf.plot()"
   ]
  },
  {
   "cell_type": "markdown",
   "metadata": {},
   "source": [
    "oder mit einer Bounding Box:"
   ]
  },
  {
   "cell_type": "code",
   "execution_count": null,
   "metadata": {},
   "outputs": [],
   "source": [
    "bbox = (\n",
    "    -100, -50, -30, 20\n",
    ")\n",
    "gdf = gpd.read_file(\"data/cities.shp\",\n",
    "    bbox=bbox,\n",
    ")\n",
    "gdf.plot()"
   ]
  },
  {
   "cell_type": "markdown",
   "metadata": {},
   "source": [
    "### Geschwindigkeit:\n",
    "Im Shapefile 'buildings_a.shp' - mit 41.000 Zeilen - eine neue Spalte [area] anlegen und die Gebäudeflächen berechnen. Mit **QGIS** hat mein Rechner dafür knapp 3,5 Sekunden mit dem Feldrechner benötigt, in **ArcMap** ca. 5 Sekunden.  \n",
    "\n",
    "Mit einen PYQGIS Script der Art:  \n",
    "\n",
    "`with edit(layer):\n",
    "    for feature in layer.getFeatures():\n",
    "        feature['area'] = feature.geometry().area()\n",
    "        layer.updateFeature(feature)`  \n",
    "        \n",
    "dauerte es sogar noch deutlich länger: 18 Minuten!"
   ]
  },
  {
   "cell_type": "code",
   "execution_count": 1,
   "metadata": {
    "scrolled": true
   },
   "outputs": [
    {
     "name": "stdout",
     "output_type": "stream",
     "text": [
      "Reading data in 1.502301 seconds\n",
      "Area-calculation done in 0.062481 seconds\n"
     ]
    },
    {
     "data": {
      "text/html": [
       "<div>\n",
       "<style scoped>\n",
       "    .dataframe tbody tr th:only-of-type {\n",
       "        vertical-align: middle;\n",
       "    }\n",
       "\n",
       "    .dataframe tbody tr th {\n",
       "        vertical-align: top;\n",
       "    }\n",
       "\n",
       "    .dataframe thead th {\n",
       "        text-align: right;\n",
       "    }\n",
       "</style>\n",
       "<table border=\"1\" class=\"dataframe\">\n",
       "  <thead>\n",
       "    <tr style=\"text-align: right;\">\n",
       "      <th></th>\n",
       "      <th>fid</th>\n",
       "      <th>osm_id</th>\n",
       "      <th>code</th>\n",
       "      <th>fclass</th>\n",
       "      <th>name</th>\n",
       "      <th>type</th>\n",
       "      <th>geometry</th>\n",
       "      <th>area</th>\n",
       "    </tr>\n",
       "  </thead>\n",
       "  <tbody>\n",
       "    <tr>\n",
       "      <th>0</th>\n",
       "      <td>1.0</td>\n",
       "      <td>4525597</td>\n",
       "      <td>1500</td>\n",
       "      <td>building</td>\n",
       "      <td>Sankt Thomas Kirche</td>\n",
       "      <td>church</td>\n",
       "      <td>POLYGON ((869156.302 6108442.913, 869173.868 6...</td>\n",
       "      <td>549.460723</td>\n",
       "    </tr>\n",
       "    <tr>\n",
       "      <th>1</th>\n",
       "      <td>2.0</td>\n",
       "      <td>17062362</td>\n",
       "      <td>1500</td>\n",
       "      <td>building</td>\n",
       "      <td>Konzerthaus Freiburg</td>\n",
       "      <td>None</td>\n",
       "      <td>POLYGON ((872938.827 6106136.537, 872939.806 6...</td>\n",
       "      <td>10937.636339</td>\n",
       "    </tr>\n",
       "    <tr>\n",
       "      <th>2</th>\n",
       "      <td>3.0</td>\n",
       "      <td>17062367</td>\n",
       "      <td>1500</td>\n",
       "      <td>building</td>\n",
       "      <td>None</td>\n",
       "      <td>civic</td>\n",
       "      <td>POLYGON ((873818.763 6107470.788, 873895.807 6...</td>\n",
       "      <td>10667.333809</td>\n",
       "    </tr>\n",
       "    <tr>\n",
       "      <th>3</th>\n",
       "      <td>4.0</td>\n",
       "      <td>17062368</td>\n",
       "      <td>1500</td>\n",
       "      <td>building</td>\n",
       "      <td>Novotel</td>\n",
       "      <td>hotel</td>\n",
       "      <td>POLYGON ((872879.972 6106062.495, 872913.702 6...</td>\n",
       "      <td>3483.000274</td>\n",
       "    </tr>\n",
       "    <tr>\n",
       "      <th>4</th>\n",
       "      <td>5.0</td>\n",
       "      <td>17062369</td>\n",
       "      <td>1500</td>\n",
       "      <td>building</td>\n",
       "      <td>Intercity Hotel</td>\n",
       "      <td>hotel</td>\n",
       "      <td>POLYGON ((872897.071 6106396.646, 872907.969 6...</td>\n",
       "      <td>1417.244249</td>\n",
       "    </tr>\n",
       "  </tbody>\n",
       "</table>\n",
       "</div>"
      ],
      "text/plain": [
       "   fid    osm_id  code    fclass                  name    type  \\\n",
       "0  1.0   4525597  1500  building   Sankt Thomas Kirche  church   \n",
       "1  2.0  17062362  1500  building  Konzerthaus Freiburg    None   \n",
       "2  3.0  17062367  1500  building                  None   civic   \n",
       "3  4.0  17062368  1500  building               Novotel   hotel   \n",
       "4  5.0  17062369  1500  building       Intercity Hotel   hotel   \n",
       "\n",
       "                                            geometry          area  \n",
       "0  POLYGON ((869156.302 6108442.913, 869173.868 6...    549.460723  \n",
       "1  POLYGON ((872938.827 6106136.537, 872939.806 6...  10937.636339  \n",
       "2  POLYGON ((873818.763 6107470.788, 873895.807 6...  10667.333809  \n",
       "3  POLYGON ((872879.972 6106062.495, 872913.702 6...   3483.000274  \n",
       "4  POLYGON ((872897.071 6106396.646, 872907.969 6...   1417.244249  "
      ]
     },
     "execution_count": 1,
     "metadata": {},
     "output_type": "execute_result"
    }
   ],
   "source": [
    "import geopandas as gpd\n",
    "import datetime #Performance messen\n",
    "#Startzeitder Berechnung für Performancemessung\n",
    "t1 = datetime.datetime.now()\n",
    "#Daten einlesen\n",
    "fp = \"data/buildings_a.shp\"\n",
    "df = gpd.read_file(fp)\n",
    "\n",
    "#Zwischenzeit nehmen\n",
    "t2 = datetime.datetime.now()\n",
    "secs = (t2-t1).total_seconds()\n",
    "print(\"Reading data in {} seconds\".format(secs))\n",
    "t1 = datetime.datetime.now()\n",
    "\n",
    "#Neue Spalte 'area' mit Gebäudefläche bestimmen:\n",
    "df[\"area\"] = df['geometry'].area\n",
    "\n",
    "#Zeit berechnen für Flächenberechnung\n",
    "t2 = datetime.datetime.now()\n",
    "secs = (t2-t1).total_seconds()\n",
    "print(\"Area-calculation done in {} seconds\".format(secs))\n",
    "df.head()"
   ]
  },
  {
   "cell_type": "markdown",
   "metadata": {},
   "source": [
    "Mit der `describe()` Funktion können wir uns nun die Statistik zu den Daten sehr schnell ansehen:"
   ]
  },
  {
   "cell_type": "code",
   "execution_count": null,
   "metadata": {
    "scrolled": true
   },
   "outputs": [],
   "source": [
    "df.describe()"
   ]
  }
 ],
 "metadata": {
  "kernelspec": {
   "display_name": "Python 3",
   "language": "python",
   "name": "python3"
  },
  "language_info": {
   "codemirror_mode": {
    "name": "ipython",
    "version": 3
   },
   "file_extension": ".py",
   "mimetype": "text/x-python",
   "name": "python",
   "nbconvert_exporter": "python",
   "pygments_lexer": "ipython3",
   "version": "3.8.8"
  }
 },
 "nbformat": 4,
 "nbformat_minor": 2
}
