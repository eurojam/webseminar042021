{
 "cells": [
  {
   "cell_type": "markdown",
   "metadata": {},
   "source": [
    "## Grundlagen GeoPandas"
   ]
  },
  {
   "cell_type": "markdown",
   "metadata": {},
   "source": [
    "**GeoPandas**\n",
    "- erbt Funktionen von Pandas, damit ist eine sehr mächtige Tabellenkalkulation möglich\n",
    "- kann sehr viele Datenformate Lesen und Schreiben, da es auf Fiona und somit auf GDAL aufbaut\n",
    "- verfügt die wichtigsten Overlay-Funktionen wie **intersection**, **union**, **difference** und andere\n",
    "- verfügt über die wichtigsten geometrischen Manipulationsmethoden wie **buffer**, **centroid**, **convex_hull** und weitere\n",
    "- kennt die wichtigsten affinen Transformationen wie **rotate**, **scale**, **transform**, **affine_transform (matrix)**\n",
    "- ist sehr schnell bei Berechnungen und Umwandlungen, da diese nicht zeilenbasiert sondern matrixbasiert durchgeführt werden, insbesondere Laden, Joinen und gruppieren von Daten."
   ]
  },
  {
   "cell_type": "markdown",
   "metadata": {},
   "source": [
    "### Datenformate"
   ]
  },
  {
   "cell_type": "code",
   "execution_count": null,
   "metadata": {
    "scrolled": true
   },
   "outputs": [],
   "source": [
    "# Unterstützte Datenformate:\n",
    "import fiona \n",
    "fiona.supported_drivers"
   ]
  },
  {
   "cell_type": "markdown",
   "metadata": {},
   "source": [
    "Es können auch webbasierte Datenformate wie *geojson* direkt über eine URL geladen werden:"
   ]
  },
  {
   "cell_type": "code",
   "execution_count": null,
   "metadata": {
    "scrolled": true
   },
   "outputs": [],
   "source": [
    "import geopandas as gpd\n",
    "url = \"http://d2ad6b4ur7yvpq.cloudfront.net/naturalearth-3.3.0/ne_110m_land.geojson\"\n",
    "df = gpd.read_file(url)\n",
    "df.plot()"
   ]
  },
  {
   "cell_type": "markdown",
   "metadata": {},
   "source": [
    "### Datenfilter\n",
    "Da GeoPandas auf Fiona aufbaut, was wiederum auf GDAL basiert, lassen sich Daten bereits beim Einlesen filtern:"
   ]
  },
  {
   "cell_type": "code",
   "execution_count": null,
   "metadata": {},
   "outputs": [],
   "source": [
    "# Geometrischer Filter:\n",
    "gdf_mask = gpd.read_file(\"data/countries.shp\")\n",
    "\n",
    "#Alle Städte in Afrika einlesen\n",
    "gdf = gpd.read_file(\"data/cities.shp\",\n",
    "    mask=gdf_mask[gdf_mask.continent==\"Africa\"],\n",
    ")\n",
    "gdf.plot()"
   ]
  },
  {
   "cell_type": "markdown",
   "metadata": {},
   "source": [
    "oder mit einer Bounding Box:"
   ]
  },
  {
   "cell_type": "code",
   "execution_count": null,
   "metadata": {},
   "outputs": [],
   "source": [
    "bbox = (\n",
    "    -100, -50, -30, 20\n",
    ")\n",
    "gdf = gpd.read_file(\"data/cities.shp\",\n",
    "    bbox=bbox,\n",
    ")\n",
    "gdf.plot()"
   ]
  },
  {
   "cell_type": "markdown",
   "metadata": {},
   "source": [
    "### Geschwindigkeit:\n",
    "Im Shapefile 'buildings_a.shp' - mit 41.000 Zeilen - eine neue Spalte [area] anlegen und die Gebäudeflächen berechnen. Mit **QGIS** hat mein Rechner dafür knapp 3,5 Sekunden mit dem Feldrechner benötigt, in **ArcMap** ca. 5 Sekunden.  \n",
    "\n",
    "Mit einen PYQGIS Script der Art:  \n",
    "\n",
    "`with edit(layer):\n",
    "    for feature in layer.getFeatures():\n",
    "        feature['area'] = feature.geometry().area()\n",
    "        layer.updateFeature(feature)`  \n",
    "        \n",
    "dauerte es sogar noch deutlich länger: 18 Minuten!"
   ]
  },
  {
   "cell_type": "code",
   "execution_count": null,
   "metadata": {
    "scrolled": true
   },
   "outputs": [],
   "source": [
    "import geopandas as gpd\n",
    "import datetime #Performance messen\n",
    "#Startzeitder Berechnung für Performancemessung\n",
    "t1 = datetime.datetime.now()\n",
    "#Daten einlesen\n",
    "fp = \"data/buildings_a.shp\"\n",
    "df = gpd.read_file(fp)\n",
    "\n",
    "#Zwischenzeit nehmen\n",
    "t2 = datetime.datetime.now()\n",
    "secs = (t2-t1).total_seconds()\n",
    "print(\"Reading data in {} seconds\".format(secs))\n",
    "t1 = datetime.datetime.now()\n",
    "\n",
    "#Neue Spalte 'area' mit Gebäudefläche bestimmen:\n",
    "df[\"area\"] = df['geometry'].area\n",
    "\n",
    "#Zeit berechnen für Flächenberechnung\n",
    "t2 = datetime.datetime.now()\n",
    "secs = (t2-t1).total_seconds()\n",
    "print(\"Area-calculation done in {} seconds\".format(secs))\n",
    "df.head()"
   ]
  },
  {
   "cell_type": "markdown",
   "metadata": {},
   "source": [
    "Mit der `describe()` Funktion können wir uns nun die Statistik zu den Daten sehr schnell ansehen:"
   ]
  },
  {
   "cell_type": "code",
   "execution_count": null,
   "metadata": {
    "scrolled": true
   },
   "outputs": [],
   "source": [
    "df.describe()"
   ]
  }
 ],
 "metadata": {
  "kernelspec": {
   "display_name": "Python 3",
   "language": "python",
   "name": "python3"
  },
  "language_info": {
   "codemirror_mode": {
    "name": "ipython",
    "version": 3
   },
   "file_extension": ".py",
   "mimetype": "text/x-python",
   "name": "python",
   "nbconvert_exporter": "python",
   "pygments_lexer": "ipython3",
   "version": "3.8.5"
  }
 },
 "nbformat": 4,
 "nbformat_minor": 2
}
